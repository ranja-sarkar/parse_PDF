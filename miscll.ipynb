{
  "nbformat": 4,
  "nbformat_minor": 0,
  "metadata": {
    "colab": {
      "provenance": []
    },
    "kernelspec": {
      "name": "python3",
      "display_name": "Python 3"
    },
    "language_info": {
      "name": "python"
    }
  },
  "cells": [
    {
      "cell_type": "code",
      "source": [
        "import re\n",
        "import nltk\n",
        "nltk.download('punkt_tab')\n",
        "nltk.download('stopwords')\n",
        "nltk.download('wordnet')\n",
        "\n",
        "from nltk import word_tokenize\n",
        "from nltk.corpus import stopwords\n",
        "#from nltk.stem import LancasterStemmer\n",
        "from nltk.stem import PorterStemmer\n",
        "from nltk.stem import WordNetLemmatizer"
      ],
      "metadata": {
        "id": "ri6lzPXaRMzb"
      },
      "execution_count": null,
      "outputs": []
    },
    {
      "cell_type": "code",
      "source": [
        "def tokenization(text):\n",
        "    \"\"\"Convert text into tokenized words\"\"\"\n",
        "    tokens = word_tokenize(text)\n",
        "    return tokens\n",
        "\n",
        "def remove_punctuation(text):\n",
        "        \"\"\"Remove punctuation from list of tokenized words\"\"\"\n",
        "        new_words = []\n",
        "        for word in text:\n",
        "            new_word = re.sub(r'[^\\w\\s]', '', word)\n",
        "            if new_word != '':\n",
        "                new_words.append(new_word)\n",
        "        return new_words\n",
        "\n",
        "def to_lowercase(text):\n",
        "        \"\"\"Convert all characters to lowercase from list of tokenized words\"\"\"\n",
        "        return [x.lower() for x in text]\n",
        "\n",
        "def remove_numbers(text):\n",
        "        \"\"\"Remove all interger occurrences in list of tokenized words\"\"\"\n",
        "        return[word for word in text if not word.isdigit()]"
      ],
      "metadata": {
        "id": "r6B2sl1bRUeq"
      },
      "execution_count": null,
      "outputs": []
    },
    {
      "cell_type": "code",
      "source": [
        "def remove_stopwords(text):\n",
        "        \"\"\"Remove stop words from list of tokenized words\"\"\"\n",
        "        return [word for word in text if word not in stopwords.words('english')]\n",
        "\n",
        "def stem_words(text):\n",
        "        \"\"\"Stem words in list of tokenized words\"\"\"\n",
        "        stemmer = PorterStemmer()\n",
        "        return [stemmer.stem(word) for word in text]\n",
        "\n",
        "def lematize_verbs(text):\n",
        "        \"\"\"Lemmatize verbs in list of tokenized words\"\"\"\n",
        "        lemmatizer = WordNetLemmatizer()\n",
        "        return [lemmatizer.lemmatize(word) for word in text]"
      ],
      "metadata": {
        "id": "P8NA1nTSRY2q"
      },
      "execution_count": null,
      "outputs": []
    },
    {
      "cell_type": "code",
      "source": [
        "text = '''One of the characteristics of the proposed FCP system, based on thermoplastics is that\n",
        "       it's permeable for service fluid.'''"
      ],
      "metadata": {
        "id": "CjROI4J3RdNB"
      },
      "execution_count": null,
      "outputs": []
    },
    {
      "cell_type": "code",
      "source": [
        "tokens = tokenization(text)\n",
        "#print(tokens)\n",
        "text_0 = tokens\n",
        "text_1 = remove_punctuation(text_0)\n",
        "#print(text_1)\n",
        "text_2 = to_lowercase(text_1)\n",
        "#print(text_2)\n",
        "text_3 = remove_numbers(text_2)\n",
        "#print(text_3)\n",
        "text_4 = remove_stopwords(text_3)\n",
        "#print(text_4)\n",
        "text_5 = stem_words(text_4)\n",
        "#print(text_5)\n",
        "final_text = lematize_verbs(text_4)\n",
        "print(final_text)"
      ],
      "metadata": {
        "colab": {
          "base_uri": "https://localhost:8080/"
        },
        "id": "slPiu65xRdIq",
        "outputId": "11795bde-9186-4238-b6fc-2600ef3b35b5"
      },
      "execution_count": null,
      "outputs": [
        {
          "output_type": "stream",
          "name": "stdout",
          "text": [
            "['one', 'characteristic', 'proposed', 'fcp', 'system', 'based', 'thermoplastic', 'permeable', 'service', 'fluid']\n"
          ]
        }
      ]
    },
    {
      "cell_type": "code",
      "source": [
        "\"\"\"\n",
        "\n",
        "import tkinter as tk\n",
        "from tkinter import messagebox\n",
        "\n",
        "window = tk.Tk()\n",
        "window.title('Article submission')\n",
        "label = tk.Label(window, text = \"Welcome to Analytics page\").pack()\n",
        "window.geometry(\"800x500\")\n",
        "\n",
        "name = tk.Label(window, text = \"Name\").place(x = 30,y = 50)\n",
        "email = tk.Label(window, text = \"Email\").place(x = 30, y = 90)\n",
        "phone = tk.Label(window, text = \"Contact #\").place(x = 30, y = 130)\n",
        "\n",
        "a1 = tk.Entry(window).place(x = 80, y = 50)\n",
        "\n",
        "a2 = tk.Entry(window).place(x = 80, y = 90)\n",
        "\n",
        "a3 = tk.Entry(window).place(x = 100, y = 135)\n",
        "\n",
        "gender = tk.Label(window, text = \"Gender\").place(x = 30, y = 165)\n",
        "\n",
        "radio1 = tk.Radiobutton(window, text=\"Male\").place(x = 80, y = 165)\n",
        "radio2 = tk.Radiobutton(window, text=\"Female\", state='disabled').place(x =80,y = 185)\n",
        "radio3 = tk.Radiobutton(window, text=\"Other\", state = 'disabled').place(x = 80, y = 205)\n",
        "\n",
        "skill = tk.Label(window, text = \"Skills\").place(x = 30, y = 225)\n",
        "\n",
        "check1 = tk.Checkbutton(window, text = \"AI\", height =1, width = 15).place(x= 80, y = 225)\n",
        "check2 = tk.Checkbutton(window, text = \"ML\", height = 1, width = 13).place(x= 80, y = 245)\n",
        "check3 = tk.Checkbutton(window, text = \"DS\", height = 1,width = 9).place(x= 80, y = 265)\n",
        "\n",
        "def onClick():\n",
        "\n",
        "     messagebox.showinfo(\"Thank You\", \"Our team will get back to you\")\n",
        "\n",
        "click1 = tk.Button(window,text = \"Submit\", command = onClick).place(x= 150, y=380)\n",
        "\n",
        "window.mainloop()\n",
        "\n",
        "\"\"\""
      ],
      "metadata": {
        "id": "pgypQ2pgwjsR"
      },
      "execution_count": null,
      "outputs": []
    }
  ]
}